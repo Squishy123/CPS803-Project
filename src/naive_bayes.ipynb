{
 "cells": [
  {
   "cell_type": "code",
   "execution_count": 2,
   "metadata": {},
   "outputs": [],
   "source": [
    "import naive_bayes as nb\n",
    "import util\n",
    "from sklearn.feature_extraction.text import TfidfVectorizer\n",
    "from sklearn.feature_extraction import text\n",
    "from sklearn.naive_bayes import MultinomialNB\n",
    "from sklearn.pipeline import Pipeline\n",
    "from sklearn.metrics import plot_confusion_matrix, accuracy_score, classification_report\n",
    "from sklearn.model_selection import cross_val_score\n",
    "import matplotlib.pyplot as plt"
   ]
  },
  {
   "cell_type": "code",
   "execution_count": 3,
   "metadata": {},
   "outputs": [],
   "source": [
    "folder_path_clement = 'datasets/kaggle_clement/split_files/'\n",
    "folder_path_comp = 'datasets/kaggle_comp/split_files/'\n",
    "train_file = 'train.csv'\n",
    "test_file = 'test.csv'\n",
    "save_file = 'test_pred.csv'"
   ]
  },
  {
   "cell_type": "markdown",
   "metadata": {},
   "source": [
    "# Kaggle Clement Dataset"
   ]
  },
  {
   "cell_type": "markdown",
   "metadata": {},
   "source": [
    "## Train Model on Dataset"
   ]
  },
  {
   "cell_type": "code",
   "execution_count": 4,
   "metadata": {},
   "outputs": [],
   "source": [
    "train_X_clement, train_y_clement = util.load_dataset(folder_path_clement, train_file)\n",
    "test_X_clement, test_y_clement = util.load_dataset(folder_path_clement, test_file)"
   ]
  },
  {
   "cell_type": "code",
   "execution_count": 7,
   "metadata": {},
   "outputs": [],
   "source": [
    "model_cl = nb.NaiveBayesModel()\n",
    "model_cl.fit(train_X_clement, train_y_clement)"
   ]
  },
  {
   "cell_type": "markdown",
   "metadata": {},
   "source": [
    "## Performance on Test"
   ]
  },
  {
   "cell_type": "code",
   "execution_count": 8,
   "metadata": {},
   "outputs": [],
   "source": [
    "test_pred_y_clement = model_cl.predict(test_X_clement)"
   ]
  },
  {
   "cell_type": "code",
   "execution_count": 9,
   "metadata": {},
   "outputs": [
    {
     "data": {
      "text/plain": [
       "(<Figure size 432x288 with 2 Axes>,\n",
       " <matplotlib.axes._subplots.AxesSubplot at 0x2260986d940>)"
      ]
     },
     "execution_count": 9,
     "metadata": {},
     "output_type": "execute_result"
    },
    {
     "data": {
      "image/png": "[encoded data removed]",
      "text/plain": [
       "<Figure size 432x288 with 2 Axes>"
      ]
     },
     "metadata": {
      "needs_background": "light"
     },
     "output_type": "display_data"
    }
   ],
   "source": [
    "util.plot_conf_mat(test_y_clement, test_pred_y_clement)"
   ]
  },
  {
   "cell_type": "code",
   "execution_count": 10,
   "metadata": {},
   "outputs": [
    {
     "name": "stdout",
     "output_type": "stream",
     "text": [
      "Accuracy of Logistic Regression Classifier: 93.67%\n",
      "\n",
      "CLassification Report of Logistic Regression Classifier:\n",
      "\n",
      "              precision    recall  f1-score   support\n",
      "\n",
      "           0       0.93      0.94      0.94      3505\n",
      "           1       0.94      0.93      0.93      3230\n",
      "\n",
      "    accuracy                           0.94      6735\n",
      "   macro avg       0.94      0.94      0.94      6735\n",
      "weighted avg       0.94      0.94      0.94      6735\n",
      "\n"
     ]
    }
   ],
   "source": [
    "util.print_accuracy_measures(test_y_clement, test_pred_y_clement)"
   ]
  },
  {
   "cell_type": "markdown",
   "metadata": {},
   "source": [
    "## Vocab Analysis"
   ]
  },
  {
   "cell_type": "code",
   "execution_count": 12,
   "metadata": {},
   "outputs": [
    {
     "name": "stdout",
     "output_type": "stream",
     "text": [
      "{'said': 82066}\n",
      "{'trumka': 95529}\n",
      "{'reuters': 79693}\n",
      "{'president': 74270}\n",
      "{'stasi': 88922}\n",
      "{'house': 45439}\n",
      "{'government': 40953}\n",
      "{'washed': 100739}\n",
      "{'republic': 79176}\n",
      "{'unisplendour': 97596}\n",
      "{'statementand': 88949}\n",
      "{'nevio': 65511}\n",
      "{'norsworthy': 66818}\n",
      "{'token': 94237}\n",
      "{'china': 21342}\n",
      "{'miniskirt': 61859}\n",
      "{'partnerships': 70613}\n",
      "{'semitism': 84154}\n",
      "{'korda': 53697}\n",
      "{'electing': 32457}\n",
      "{'rusholme': 81610}\n",
      "{'ybor': 103646}\n",
      "{'taverns': 92124}\n",
      "{'websiteread': 101095}\n",
      "{'secularist': 83895}\n",
      "{'pepto': 71464}\n",
      "{'whisker': 101617}\n",
      "{'thunderdome': 93587}\n",
      "{'tubridy': 95881}\n",
      "{'coursing': 25000}\n",
      "{'penthouses': 71419}\n",
      "{'clinto': 22319}\n",
      "{'donahoe': 30388}\n",
      "{'fricking': 38211}\n",
      "{'foreground': 37500}\n",
      "{'campaign': 19086}\n",
      "{'rusiackas': 81611}\n",
      "{'stasi': 88922}\n",
      "{'monastery': 62762}\n",
      "{'oath': 67597}\n",
      "{'militarily': 61663}\n",
      "{'democracynow': 27915}\n",
      "{'preservation': 74259}\n",
      "{'iq': 48884}\n",
      "{'administration': 7809}\n",
      "{'webs': 101090}\n",
      "{'offerman': 68035}\n",
      "{'commitments': 23252}\n",
      "{'lavin': 55187}\n",
      "{'ntknetworkbarack': 67177}\n",
      "{'etten': 34106}\n",
      "{'voltron': 100007}\n",
      "{'tpuz9xfvba': 94720}\n",
      "{'pokomy': 73118}\n",
      "{'natasha': 64789}\n",
      "{'counting': 24943}\n",
      "{'deafening': 27068}\n",
      "{'congregated': 23853}\n",
      "{'medvedev': 60599}\n",
      "{'offends': 68021}\n",
      "{'splashy': 88253}\n",
      "{'deok': 28112}\n",
      "{'inciteful': 47315}\n",
      "{'reprise': 79142}\n",
      "{'sebastien': 83822}\n",
      "{'replayed': 79047}\n",
      "{'grouches': 41584}\n",
      "{'pricewaterhousecoopers': 74441}\n",
      "{'policewoman': 73152}\n",
      "{'supersoldiers': 90626}\n",
      "{'febri': 35909}\n",
      "{'eurobonds': 34179}\n",
      "{'ofelia': 68007}\n",
      "{'newbold': 65519}\n",
      "{'takhvx4c5r': 91682}\n",
      "{'morsy': 63180}\n",
      "{'sammy': 82343}\n",
      "{'ld65ymumvn': 55335}\n",
      "{'souad': 87764}\n",
      "{'millennial_matt': 61705}\n",
      "{'agenciesduring': 8265}\n",
      "{'counterweight': 24938}\n",
      "{'bristolsblog': 17582}\n",
      "{'dickson': 28915}\n",
      "{'lcsxvejukj': 55332}\n",
      "{'sympathetically': 91279}\n",
      "{'montalban': 62904}\n",
      "{'sellout': 84103}\n",
      "{'yashin': 103591}\n",
      "{'citizenship6': 21917}\n",
      "{'ishtiaq': 49086}\n",
      "{'savidge': 82826}\n",
      "{'callaway': 18941}\n",
      "{'poisons': 73104}\n",
      "{'gemma': 39495}\n",
      "{'legality': 55577}\n",
      "{'000': 1}\n",
      "{'ridley': 80116}\n",
      "{'demobilize': 27909}\n",
      "{'sassaman': 82708}\n",
      "{'ming': 61825}\n",
      "{'interjections': 48434}\n",
      "{'foraged': 37443}\n",
      "{'tiffen': 93711}\n",
      "{'sullivan': 90409}\n",
      "{'pkwy': 72618}\n",
      "{'lavished': 55191}\n",
      "{'billingsgazette': 15316}\n",
      "{'accorded': 7361}\n",
      "{'decidedly': 27267}\n",
      "{'yjqxle6thzidemocrats': 103878}\n",
      "{'insurgencies': 48281}\n",
      "{'buddy': 17984}\n",
      "{'akureyri': 8751}\n",
      "{'tulane': 95926}\n",
      "{'operationalize': 68622}\n",
      "{'refugess': 78266}\n",
      "{'sauk': 82786}\n",
      "{'parentelement': 70429}\n",
      "{'agreeably': 8374}\n",
      "{'wallenberg': 100488}\n",
      "{'eclamb': 31935}\n",
      "{'boraks': 16651}\n",
      "{'pstthis': 75238}\n",
      "{'repeal': 78998}\n",
      "{'woman': 102463}\n",
      "{'askance': 11582}\n",
      "{'kies': 52920}\n",
      "{'defecating': 27477}\n",
      "{'methodist': 61176}\n",
      "{'symb': 91252}\n",
      "{'options': 68737}\n",
      "{'unfriendly': 97448}\n",
      "{'exorbitant': 34683}\n",
      "{'melika': 60758}\n",
      "{'nastywomen': 64777}\n",
      "{'eag': 31711}\n",
      "{'repetitively': 79027}\n",
      "{'mislead': 62118}\n",
      "{'tic': 93652}\n",
      "{'coaching': 22618}\n",
      "{'seller': 84098}\n",
      "{'maintained': 58375}\n",
      "{'islamthe': 49136}\n",
      "{'chickenhawk': 21245}\n",
      "{'commemorates': 23193}\n",
      "{'invalid': 48683}\n",
      "{'wonderful': 102487}\n",
      "{'mutuals': 64176}\n",
      "{'purification': 75552}\n",
      "{'cone': 23714}\n",
      "{'ipera': 48854}\n",
      "{'postwar': 73705}\n",
      "{'addams': 7657}\n",
      "{'proctor': 74648}\n",
      "{'caparulo': 19289}\n",
      "{'cancels': 19157}\n",
      "{'davram': 26902}\n",
      "{'konduga': 53640}\n",
      "{'groped': 41561}\n",
      "{'heliopolis': 43834}\n",
      "{'americafirst': 9668}\n",
      "{'means': 60442}\n",
      "{'encirclement': 33075}\n",
      "{'baqeri': 13440}\n",
      "{'gotta': 40906}\n",
      "{'communitarian': 23319}\n",
      "{'logged': 57005}\n",
      "{'logistical': 57017}\n",
      "{'juniac': 51293}\n",
      "{'exclamation': 34535}\n",
      "{'sarc': 82636}\n",
      "{'leap': 55419}\n",
      "{'2015yesterday': 1641}\n",
      "{'chimes': 21332}\n",
      "{'diphtheria': 29204}\n",
      "{'fills': 36461}\n",
      "{'cosying': 24826}\n",
      "{'headbands': 43501}\n",
      "{'mailtypical': 58331}\n",
      "{'increased': 47395}\n",
      "{'goddaughter': 40538}\n",
      "{'headbands': 43501}\n",
      "{'brissago': 17575}\n",
      "{'georgiademocrat': 39671}\n",
      "{'brew': 17402}\n",
      "{'islamizing': 49126}\n",
      "{'ruath': 81361}\n",
      "{'imbassahy': 46781}\n",
      "{'hegarty': 43752}\n",
      "{'bushehr': 18394}\n",
      "{'attachment': 12009}\n",
      "{'nyse': 67496}\n",
      "{'dawes': 26910}\n",
      "{'vmc': 99882}\n",
      "{'behoove': 14391}\n",
      "{'theodorakis': 93166}\n",
      "{'ainsley': 8540}\n",
      "{'champs': 20687}\n",
      "{'att': 12000}\n",
      "{'menteng': 60936}\n",
      "{'redskins': 78065}\n",
      "{'bambinogesu': 13253}\n",
      "{'vilarino': 99565}\n",
      "{'pituitary': 72562}\n",
      "{'eea': 32148}\n",
      "{'rupee': 81574}\n",
      "{'crimeans': 25409}\n",
      "{'payload': 70980}\n",
      "{'chaffetz2018': 20586}\n",
      "{'monika': 62826}\n",
      "{'carvschi': 19729}\n",
      "{'popthe': 73455}\n",
      "{'renquist': 78919}\n",
      "{'contradictionsfrom': 24267}\n",
      "{'offfice': 68038}\n",
      "{'uppity': 98188}\n",
      "{'reichstag': 78453}\n",
      "{'nmxhv0rvkf': 66474}\n",
      "{'ncis': 65045}\n",
      "{'noseworthy': 66879}\n",
      "{'rtgoogle': 81316}\n",
      "{'agrarian': 8369}\n",
      "{'salonoh': 82246}\n",
      "{'islamic': 49114}\n",
      "{'foodstuffs': 37392}\n",
      "{'kubiak': 54082}\n",
      "{'backbonecampaign': 12823}\n",
      "{'mailbut': 58299}\n",
      "{'infer': 47694}\n",
      "{'armories': 11262}\n",
      "{'jeni': 50181}\n",
      "{'conquering': 23939}\n",
      "{'wagner_rob': 100358}\n",
      "{'sunken': 90517}\n",
      "{'parfaits': 70444}\n",
      "{'rian': 79986}\n",
      "{'huckabee': 45636}\n",
      "{'lard': 54932}\n",
      "{'barxani': 13713}\n",
      "{'liech': 56216}\n",
      "{'authenticated': 12271}\n",
      "{'confronts': 23818}\n",
      "{'leatile': 55451}\n",
      "{'pride': 74449}\n",
      "{'sentate': 84266}\n",
      "{'dembrow': 27859}\n",
      "{'medallion': 60490}\n",
      "{'renting': 78932}\n",
      "{'reappoints': 77550}\n",
      "{'falun': 35413}\n",
      "{'intermountain': 48458}\n",
      "{'actheplug': 7535}\n",
      "{'migrante': 61525}\n",
      "{'megyntoday': 60679}\n",
      "{'commenced': 23199}\n",
      "{'referendum': 78153}\n",
      "{'hayes': 43405}\n",
      "{'0zzomtmd1k': 448}\n",
      "{'census': 20337}\n",
      "{'thousandth': 93469}\n",
      "{'2014tyson': 1545}\n",
      "{'jameel': 49710}\n",
      "{'warleak': 100652}\n",
      "{'ecause': 31902}\n",
      "{'sovcomflot': 87852}\n",
      "{'clauses': 22130}\n",
      "{'geofilter': 39633}\n",
      "{'agzdpqpew7': 8424}\n",
      "{'wasp': 100772}\n",
      "{'aqueducts': 10895}\n",
      "{'hfc': 44229}\n",
      "{'tsa': 95785}\n",
      "{'spurring': 88457}\n",
      "{'speculative': 88071}\n",
      "{'ekf5cfraoh': 32388}\n",
      "{'ljubisa': 56760}\n",
      "{'e10': 31669}\n",
      "{'1zmnglwjfwm': 1445}\n",
      "{'wtic': 102927}\n",
      "{'lichtenstein': 56186}\n",
      "{'somethin': 87574}\n",
      "{'rsczpotdpv': 81277}\n",
      "{'robbie': 80543}\n",
      "{'toba': 94146}\n",
      "{'fn': 37257}\n",
      "{'wisdom2m3': 102192}\n",
      "{'bangerter': 13333}\n",
      "{'pinole': 72438}\n",
      "{'clipped': 22347}\n",
      "{'hides': 44311}\n",
      "{'recusal': 77945}\n",
      "{'faustin': 35713}\n",
      "{'sozcu': 87880}\n",
      "{'acrobatic': 7521}\n",
      "{'journeys': 51019}\n",
      "{'encrypt': 33108}\n",
      "{'invokes': 48780}\n",
      "{'wizdom80': 102310}\n",
      "{'eagleton': 31719}\n"
     ]
    }
   ],
   "source": [
    "model = model_cl.model\n",
    "vocab=model.named_steps['tfidf'].vocabulary_\n",
    "coef=list(model.named_steps['nb'].feature_log_prob_[1])\n",
    "top_features=[]\n",
    "\n",
    "for i in range(300):\n",
    "    k = coef.index(max(coef))\n",
    "    top_features.append(k)\n",
    "    coef.pop(k)\n",
    "\n",
    "for f in top_features:\n",
    "    print({k:v for k, v in vocab.items() if v == f})\n"
   ]
  },
  {
   "cell_type": "markdown",
   "metadata": {},
   "source": [
    "# Kaggle Comp Dataset"
   ]
  },
  {
   "cell_type": "code",
   "execution_count": 13,
   "metadata": {},
   "outputs": [],
   "source": [
    "folder_path = 'datasets/kaggle_comp/split_files/'"
   ]
  },
  {
   "cell_type": "markdown",
   "metadata": {},
   "source": [
    "## Use Clement-Trained Model on This Dataset"
   ]
  },
  {
   "cell_type": "code",
   "execution_count": 14,
   "metadata": {},
   "outputs": [],
   "source": [
    "test_X_comp, test_y_comp = util.load_dataset(folder_path_comp, test_file)\n",
    "test_pred_y_cl_on_comp = model_cl.predict(test_X_comp)"
   ]
  },
  {
   "cell_type": "code",
   "execution_count": 15,
   "metadata": {},
   "outputs": [
    {
     "data": {
      "text/plain": [
       "(<Figure size 432x288 with 2 Axes>,\n",
       " <matplotlib.axes._subplots.AxesSubplot at 0x2260a6db310>)"
      ]
     },
     "execution_count": 15,
     "metadata": {},
     "output_type": "execute_result"
    },
    {
     "data": {
      "image/png": "[encoded data removed]",
      "text/plain": [
       "<Figure size 432x288 with 2 Axes>"
      ]
     },
     "metadata": {
      "needs_background": "light"
     },
     "output_type": "display_data"
    }
   ],
   "source": [
    "util.plot_conf_mat(test_y_comp, test_pred_y_cl_on_comp)"
   ]
  },
  {
   "cell_type": "code",
   "execution_count": 16,
   "metadata": {},
   "outputs": [
    {
     "name": "stdout",
     "output_type": "stream",
     "text": [
      "Accuracy of Logistic Regression Classifier: 44.7%\n",
      "\n",
      "CLassification Report of Logistic Regression Classifier:\n",
      "\n",
      "              precision    recall  f1-score   support\n",
      "\n",
      "           0       0.47      0.71      0.56      1563\n",
      "           1       0.39      0.19      0.25      1558\n",
      "\n",
      "    accuracy                           0.45      3121\n",
      "   macro avg       0.43      0.45      0.41      3121\n",
      "weighted avg       0.43      0.45      0.41      3121\n",
      "\n"
     ]
    }
   ],
   "source": [
    "util.print_accuracy_measures(test_y_comp, test_pred_y_cl_on_comp)"
   ]
  },
  {
   "cell_type": "markdown",
   "metadata": {},
   "source": [
    "## Train Model on Dataset"
   ]
  },
  {
   "cell_type": "code",
   "execution_count": 18,
   "metadata": {},
   "outputs": [],
   "source": [
    "train_X_comp, train_y_comp = util.load_dataset(folder_path_comp, train_file)"
   ]
  },
  {
   "cell_type": "code",
   "execution_count": 19,
   "metadata": {},
   "outputs": [],
   "source": [
    "model_cp = nb.NaiveBayesModel()\n",
    "model_cp.fit(train_X_comp, train_y_comp)"
   ]
  },
  {
   "cell_type": "code",
   "execution_count": 20,
   "metadata": {},
   "outputs": [],
   "source": [
    "test_pred_y_comp = model_cp.predict(test_X_comp) "
   ]
  },
  {
   "cell_type": "markdown",
   "metadata": {},
   "source": [
    "### Performance on Test"
   ]
  },
  {
   "cell_type": "code",
   "execution_count": 21,
   "metadata": {},
   "outputs": [
    {
     "data": {
      "text/plain": [
       "(<Figure size 432x288 with 2 Axes>,\n",
       " <matplotlib.axes._subplots.AxesSubplot at 0x2260a6db8b0>)"
      ]
     },
     "execution_count": 21,
     "metadata": {},
     "output_type": "execute_result"
    },
    {
     "data": {
      "image/png": "[encoded data removed]",
      "text/plain": [
       "<Figure size 432x288 with 2 Axes>"
      ]
     },
     "metadata": {
      "needs_background": "light"
     },
     "output_type": "display_data"
    }
   ],
   "source": [
    "util.plot_conf_mat(test_y_comp, test_pred_y_comp)"
   ]
  },
  {
   "cell_type": "code",
   "execution_count": 22,
   "metadata": {},
   "outputs": [
    {
     "name": "stdout",
     "output_type": "stream",
     "text": [
      "Accuracy of Logistic Regression Classifier: 87.02%\n",
      "\n",
      "CLassification Report of Logistic Regression Classifier:\n",
      "\n",
      "              precision    recall  f1-score   support\n",
      "\n",
      "           0       0.80      0.98      0.88      1563\n",
      "           1       0.98      0.76      0.85      1558\n",
      "\n",
      "    accuracy                           0.87      3121\n",
      "   macro avg       0.89      0.87      0.87      3121\n",
      "weighted avg       0.89      0.87      0.87      3121\n",
      "\n"
     ]
    }
   ],
   "source": [
    "util.print_accuracy_measures(test_y_comp, test_pred_y_comp)"
   ]
  },
  {
   "cell_type": "markdown",
   "metadata": {},
   "source": [
    "# N Gram"
   ]
  },
  {
   "cell_type": "code",
   "execution_count": 48,
   "metadata": {},
   "outputs": [],
   "source": [
    "ngram = (1, 2)"
   ]
  },
  {
   "cell_type": "markdown",
   "metadata": {},
   "source": [
    "## Train Model on Comp Dataset"
   ]
  },
  {
   "cell_type": "code",
   "execution_count": 49,
   "metadata": {},
   "outputs": [],
   "source": [
    "model_bigram_cp = nb.NaiveBayesModel()\n",
    "model_bigram_cp.fit(train_X_comp, train_y_comp, ngram)"
   ]
  },
  {
   "cell_type": "code",
   "execution_count": 50,
   "metadata": {},
   "outputs": [],
   "source": [
    "test_pred_y = model_bigram_cp.predict(test_X_comp) "
   ]
  },
  {
   "cell_type": "markdown",
   "metadata": {},
   "source": [
    "## Performance on Test"
   ]
  },
  {
   "cell_type": "code",
   "execution_count": 51,
   "metadata": {},
   "outputs": [
    {
     "data": {
      "text/plain": [
       "(<Figure size 432x288 with 2 Axes>,\n",
       " <matplotlib.axes._subplots.AxesSubplot at 0x22673d5fe80>)"
      ]
     },
     "execution_count": 51,
     "metadata": {},
     "output_type": "execute_result"
    },
    {
     "data": {
      "image/png": "[encoded data removed]",
      "text/plain": [
       "<Figure size 432x288 with 2 Axes>"
      ]
     },
     "metadata": {
      "needs_background": "light"
     },
     "output_type": "display_data"
    }
   ],
   "source": [
    "util.plot_conf_mat(test_y_comp, test_pred_y)"
   ]
  },
  {
   "cell_type": "code",
   "execution_count": 52,
   "metadata": {},
   "outputs": [
    {
     "name": "stdout",
     "output_type": "stream",
     "text": [
      "Accuracy of Logistic Regression Classifier: 85.93%\n",
      "\n",
      "CLassification Report of Logistic Regression Classifier:\n",
      "\n",
      "              precision    recall  f1-score   support\n",
      "\n",
      "           0       0.78      1.00      0.88      1563\n",
      "           1       0.99      0.72      0.84      1558\n",
      "\n",
      "    accuracy                           0.86      3121\n",
      "   macro avg       0.89      0.86      0.86      3121\n",
      "weighted avg       0.89      0.86      0.86      3121\n",
      "\n"
     ]
    }
   ],
   "source": [
    "util.print_accuracy_measures(test_y_comp, test_pred_y)"
   ]
  },
  {
   "cell_type": "markdown",
   "metadata": {},
   "source": [
    "### Comparison to Basic Model on Comp Dataset"
   ]
  },
  {
   "cell_type": "code",
   "execution_count": 53,
   "metadata": {},
   "outputs": [
    {
     "data": {
      "text/plain": [
       "(<Figure size 432x288 with 2 Axes>,\n",
       " <matplotlib.axes._subplots.AxesSubplot at 0x2265b7ccee0>)"
      ]
     },
     "execution_count": 53,
     "metadata": {},
     "output_type": "execute_result"
    },
    {
     "data": {
      "image/png": "[encoded data removed]",
      "text/plain": [
       "<Figure size 432x288 with 2 Axes>"
      ]
     },
     "metadata": {
      "needs_background": "light"
     },
     "output_type": "display_data"
    }
   ],
   "source": [
    "util.plot_conf_mat(test_y_comp, test_pred_y_comp)"
   ]
  },
  {
   "cell_type": "code",
   "execution_count": 54,
   "metadata": {},
   "outputs": [
    {
     "name": "stdout",
     "output_type": "stream",
     "text": [
      "Accuracy of Logistic Regression Classifier: 87.02%\n",
      "\n",
      "CLassification Report of Logistic Regression Classifier:\n",
      "\n",
      "              precision    recall  f1-score   support\n",
      "\n",
      "           0       0.80      0.98      0.88      1563\n",
      "           1       0.98      0.76      0.85      1558\n",
      "\n",
      "    accuracy                           0.87      3121\n",
      "   macro avg       0.89      0.87      0.87      3121\n",
      "weighted avg       0.89      0.87      0.87      3121\n",
      "\n"
     ]
    }
   ],
   "source": [
    "util.print_accuracy_measures(test_y_comp, test_pred_y_comp)"
   ]
  },
  {
   "cell_type": "markdown",
   "metadata": {},
   "source": [
    "## Train Model on Clement Dataset"
   ]
  },
  {
   "cell_type": "code",
   "execution_count": 55,
   "metadata": {},
   "outputs": [],
   "source": [
    "model_bigram_cl = nb.NaiveBayesModel()\n",
    "model_bigram_cl.fit(train_X_clement, train_y_clement, ngram)"
   ]
  },
  {
   "cell_type": "markdown",
   "metadata": {},
   "source": [
    "## Performance on Test"
   ]
  },
  {
   "cell_type": "code",
   "execution_count": 56,
   "metadata": {},
   "outputs": [],
   "source": [
    "test_pred_y = model_bigram_cl.predict(test_X_clement) "
   ]
  },
  {
   "cell_type": "code",
   "execution_count": 57,
   "metadata": {},
   "outputs": [
    {
     "data": {
      "text/plain": [
       "(<Figure size 432x288 with 2 Axes>,\n",
       " <matplotlib.axes._subplots.AxesSubplot at 0x2284ff3d520>)"
      ]
     },
     "execution_count": 57,
     "metadata": {},
     "output_type": "execute_result"
    },
    {
     "data": {
      "image/png": "[encoded data removed]",
      "text/plain": [
       "<Figure size 432x288 with 2 Axes>"
      ]
     },
     "metadata": {
      "needs_background": "light"
     },
     "output_type": "display_data"
    }
   ],
   "source": [
    "util.plot_conf_mat(test_y_clement, test_pred_y)"
   ]
  },
  {
   "cell_type": "code",
   "execution_count": 58,
   "metadata": {},
   "outputs": [
    {
     "name": "stdout",
     "output_type": "stream",
     "text": [
      "Accuracy of Logistic Regression Classifier: 95.68%\n",
      "\n",
      "CLassification Report of Logistic Regression Classifier:\n",
      "\n",
      "              precision    recall  f1-score   support\n",
      "\n",
      "           0       0.96      0.96      0.96      3505\n",
      "           1       0.96      0.95      0.95      3230\n",
      "\n",
      "    accuracy                           0.96      6735\n",
      "   macro avg       0.96      0.96      0.96      6735\n",
      "weighted avg       0.96      0.96      0.96      6735\n",
      "\n"
     ]
    }
   ],
   "source": [
    "util.print_accuracy_measures(test_y_clement, test_pred_y)"
   ]
  },
  {
   "cell_type": "markdown",
   "metadata": {},
   "source": [
    "### Comparison to Basic Model on Clement Dataset"
   ]
  },
  {
   "cell_type": "code",
   "execution_count": 59,
   "metadata": {},
   "outputs": [
    {
     "data": {
      "text/plain": [
       "(<Figure size 432x288 with 2 Axes>,\n",
       " <matplotlib.axes._subplots.AxesSubplot at 0x22855fdf070>)"
      ]
     },
     "execution_count": 59,
     "metadata": {},
     "output_type": "execute_result"
    },
    {
     "data": {
      "image/png": "[encoded data removed]",
      "text/plain": [
       "<Figure size 432x288 with 2 Axes>"
      ]
     },
     "metadata": {
      "needs_background": "light"
     },
     "output_type": "display_data"
    }
   ],
   "source": [
    "util.plot_conf_mat(test_y_clement, test_pred_y_clement)"
   ]
  },
  {
   "cell_type": "code",
   "execution_count": 60,
   "metadata": {},
   "outputs": [
    {
     "name": "stdout",
     "output_type": "stream",
     "text": [
      "Accuracy of Logistic Regression Classifier: 93.67%\n",
      "\n",
      "CLassification Report of Logistic Regression Classifier:\n",
      "\n",
      "              precision    recall  f1-score   support\n",
      "\n",
      "           0       0.93      0.94      0.94      3505\n",
      "           1       0.94      0.93      0.93      3230\n",
      "\n",
      "    accuracy                           0.94      6735\n",
      "   macro avg       0.94      0.94      0.94      6735\n",
      "weighted avg       0.94      0.94      0.94      6735\n",
      "\n"
     ]
    }
   ],
   "source": [
    "util.print_accuracy_measures(test_y_clement, test_pred_y_clement)"
   ]
  },
  {
   "cell_type": "markdown",
   "metadata": {},
   "source": [
    "## Performance of Bigram Clement Model on Comp Test Dataset"
   ]
  },
  {
   "cell_type": "code",
   "execution_count": 61,
   "metadata": {},
   "outputs": [],
   "source": [
    "test_pred_y = model_bigram_cl.predict(test_X_comp) "
   ]
  },
  {
   "cell_type": "code",
   "execution_count": 62,
   "metadata": {},
   "outputs": [
    {
     "data": {
      "text/plain": [
       "(<Figure size 432x288 with 2 Axes>,\n",
       " <matplotlib.axes._subplots.AxesSubplot at 0x22858b7bb80>)"
      ]
     },
     "execution_count": 62,
     "metadata": {},
     "output_type": "execute_result"
    },
    {
     "data": {
      "image/png": "[encoded data removed]",
      "text/plain": [
       "<Figure size 432x288 with 2 Axes>"
      ]
     },
     "metadata": {
      "needs_background": "light"
     },
     "output_type": "display_data"
    }
   ],
   "source": [
    "util.plot_conf_mat(test_y_comp, test_pred_y)"
   ]
  },
  {
   "cell_type": "code",
   "execution_count": 63,
   "metadata": {},
   "outputs": [
    {
     "name": "stdout",
     "output_type": "stream",
     "text": [
      "Accuracy of Logistic Regression Classifier: 44.25%\n",
      "\n",
      "CLassification Report of Logistic Regression Classifier:\n",
      "\n",
      "              precision    recall  f1-score   support\n",
      "\n",
      "           0       0.46      0.72      0.57      1563\n",
      "           1       0.37      0.16      0.22      1558\n",
      "\n",
      "    accuracy                           0.44      3121\n",
      "   macro avg       0.41      0.44      0.39      3121\n",
      "weighted avg       0.42      0.44      0.39      3121\n",
      "\n"
     ]
    }
   ],
   "source": [
    "util.print_accuracy_measures(test_y_comp, test_pred_y)"
   ]
  },
  {
   "cell_type": "markdown",
   "metadata": {},
   "source": [
    "### Comparison to Clement Model used on Comp Dataset"
   ]
  },
  {
   "cell_type": "code",
   "execution_count": 64,
   "metadata": {},
   "outputs": [
    {
     "data": {
      "text/plain": [
       "(<Figure size 432x288 with 2 Axes>,\n",
       " <matplotlib.axes._subplots.AxesSubplot at 0x22859cde3d0>)"
      ]
     },
     "execution_count": 64,
     "metadata": {},
     "output_type": "execute_result"
    },
    {
     "data": {
      "image/png": "[encoded data removed]",
      "text/plain": [
       "<Figure size 432x288 with 2 Axes>"
      ]
     },
     "metadata": {
      "needs_background": "light"
     },
     "output_type": "display_data"
    }
   ],
   "source": [
    "util.plot_conf_mat(test_y_comp, test_pred_y_cl_on_comp)"
   ]
  },
  {
   "cell_type": "code",
   "execution_count": 65,
   "metadata": {},
   "outputs": [
    {
     "name": "stdout",
     "output_type": "stream",
     "text": [
      "Accuracy of Logistic Regression Classifier: 44.7%\n",
      "\n",
      "CLassification Report of Logistic Regression Classifier:\n",
      "\n",
      "              precision    recall  f1-score   support\n",
      "\n",
      "           0       0.47      0.71      0.56      1563\n",
      "           1       0.39      0.19      0.25      1558\n",
      "\n",
      "    accuracy                           0.45      3121\n",
      "   macro avg       0.43      0.45      0.41      3121\n",
      "weighted avg       0.43      0.45      0.41      3121\n",
      "\n"
     ]
    }
   ],
   "source": [
    "util.print_accuracy_measures(test_y_comp, test_pred_y_cl_on_comp)"
   ]
  },
  {
   "cell_type": "code",
   "execution_count": null,
   "metadata": {},
   "outputs": [],
   "source": []
  }
 ],
 "metadata": {
  "kernelspec": {
   "display_name": "Python 3",
   "language": "python",
   "name": "python3"
  },
  "language_info": {
   "codemirror_mode": {
    "name": "ipython",
    "version": 3
   },
   "file_extension": ".py",
   "mimetype": "text/x-python",
   "name": "python",
   "nbconvert_exporter": "python",
   "pygments_lexer": "ipython3",
   "version": "3.8.5"
  }
 },
 "nbformat": 4,
 "nbformat_minor": 4
}
